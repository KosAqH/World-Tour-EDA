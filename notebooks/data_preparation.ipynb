{
 "cells": [
  {
   "cell_type": "code",
   "execution_count": 1,
   "metadata": {},
   "outputs": [],
   "source": [
    "import requests\n",
    "from bs4 import BeautifulSoup\n",
    "\n",
    "import pandas as pd"
   ]
  },
  {
   "cell_type": "markdown",
   "metadata": {},
   "source": [
    "# Create list of tours"
   ]
  },
  {
   "cell_type": "markdown",
   "metadata": {},
   "source": [
    "## Highest-grossing tours \n",
    "https://en.wikipedia.org/wiki/List_of_highest-grossing_concert_tours"
   ]
  },
  {
   "cell_type": "code",
   "execution_count": 2,
   "metadata": {},
   "outputs": [],
   "source": [
    "url = \"https://en.wikipedia.org/wiki/List_of_highest-grossing_concert_tours\""
   ]
  },
  {
   "cell_type": "code",
   "execution_count": 3,
   "metadata": {},
   "outputs": [],
   "source": [
    "response = requests.get(\n",
    "\turl=url,\n",
    ")\n",
    "soup = BeautifulSoup(response.content, 'html.parser')\n",
    "\n",
    "captions = [\n",
    "    \"Top 20 highest-grossing tours of all time\",\n",
    "    \"Top 10 highest-grossing tours of the 1980s\",\n",
    "    \"Top 10 highest-grossing tours of the 1990s\",\n",
    "    \"Top 10 highest-grossing tours of the 2000s\",\n",
    "    \"Top 10 highest-grossing tours of the 2010s\",\n",
    "    \"Top 10 highest-grossing tours of the 2020s\"\n",
    "]"
   ]
  },
  {
   "cell_type": "code",
   "execution_count": 4,
   "metadata": {},
   "outputs": [
    {
     "name": "stdout",
     "output_type": "stream",
     "text": [
      "(19, 11)\n",
      "(29, 12)\n",
      "(39, 12)\n",
      "(44, 12)\n",
      "(44, 12)\n",
      "(49, 12)\n"
     ]
    }
   ],
   "source": [
    "URL = \"https://en.wikipedia.org/wiki/List_of_highest-grossing_concert_tours\"\n",
    "def create_tour_list(captions, url):\n",
    "    df = pd.DataFrame()\n",
    "    for caption in captions:\n",
    "        df_tmp = pd.read_html(url, \n",
    "                          match=caption)[0]\n",
    "        \n",
    "        tour_links = pd.read_html(url, \n",
    "                  match=caption,\n",
    "                  extract_links=\"all\")[0][(\"Tour title\", None)]\n",
    "        \n",
    "        tour_links = pd.DataFrame(tour_links.tolist(), columns=[\"Tour title\", \"Tour link\"])\n",
    "        df_tmp = df_tmp.merge(tour_links, on=\"Tour title\")\n",
    "\n",
    "        df = pd.concat([df, df_tmp]).drop_duplicates('Tour title').reset_index(drop=True)\n",
    "        print(df.shape)\n",
    "    \n",
    "    return df\n",
    "\n",
    "df = create_tour_list(captions, url)"
   ]
  },
  {
   "cell_type": "code",
   "execution_count": 5,
   "metadata": {},
   "outputs": [],
   "source": [
    "df = df.rename(columns={df.columns[3]: 'Adjusted gross (in 2022 dollars)',\n",
    "                   df.columns[-1]: 'Adjusted gross (in 2022 dollar)',\n",
    "                   df.columns[2]: 'Actual gross'})"
   ]
  },
  {
   "cell_type": "code",
   "execution_count": 6,
   "metadata": {},
   "outputs": [],
   "source": [
    "df.loc[df['Adjusted gross (in 2022 dollars)'].isna(), 'Adjusted gross (in 2022 dollars)'] = df['Adjusted gross (in 2022 dollar)']"
   ]
  },
  {
   "cell_type": "code",
   "execution_count": 7,
   "metadata": {},
   "outputs": [],
   "source": [
    "df = df[[\"Actual gross\", \"Adjusted gross (in 2022 dollars)\", \"Artist\", \"Tour title\", \"Tour link\", \"Year(s)\", \"Shows\"]]"
   ]
  },
  {
   "cell_type": "code",
   "execution_count": 8,
   "metadata": {},
   "outputs": [
    {
     "data": {
      "text/html": [
       "<div>\n",
       "<style scoped>\n",
       "    .dataframe tbody tr th:only-of-type {\n",
       "        vertical-align: middle;\n",
       "    }\n",
       "\n",
       "    .dataframe tbody tr th {\n",
       "        vertical-align: top;\n",
       "    }\n",
       "\n",
       "    .dataframe thead th {\n",
       "        text-align: right;\n",
       "    }\n",
       "</style>\n",
       "<table border=\"1\" class=\"dataframe\">\n",
       "  <thead>\n",
       "    <tr style=\"text-align: right;\">\n",
       "      <th></th>\n",
       "      <th>Actual gross</th>\n",
       "      <th>Adjusted gross (in 2022 dollars)</th>\n",
       "      <th>Artist</th>\n",
       "      <th>Tour title</th>\n",
       "      <th>Tour link</th>\n",
       "      <th>Year(s)</th>\n",
       "      <th>Shows</th>\n",
       "    </tr>\n",
       "  </thead>\n",
       "  <tbody>\n",
       "    <tr>\n",
       "      <th>0</th>\n",
       "      <td>$939,100,000</td>\n",
       "      <td>$939,100,000</td>\n",
       "      <td>Elton John</td>\n",
       "      <td>Farewell Yellow Brick Road</td>\n",
       "      <td>/wiki/Farewell_Yellow_Brick_Road</td>\n",
       "      <td>2018–2023</td>\n",
       "      <td>330</td>\n",
       "    </tr>\n",
       "    <tr>\n",
       "      <th>1</th>\n",
       "      <td>$776,200,000</td>\n",
       "      <td>$888,442,379</td>\n",
       "      <td>Ed Sheeran</td>\n",
       "      <td>÷ Tour</td>\n",
       "      <td>/wiki/%C3%B7_Tour</td>\n",
       "      <td>2017–2019</td>\n",
       "      <td>255</td>\n",
       "    </tr>\n",
       "    <tr>\n",
       "      <th>2</th>\n",
       "      <td>$736,421,586</td>\n",
       "      <td>$958,001,690</td>\n",
       "      <td>U2</td>\n",
       "      <td>U2 360° Tour</td>\n",
       "      <td>/wiki/U2_360%C2%B0_Tour</td>\n",
       "      <td>2009–2011</td>\n",
       "      <td>110</td>\n",
       "    </tr>\n",
       "    <tr>\n",
       "      <th>3</th>\n",
       "      <td>$667,726,905</td>\n",
       "      <td>$667,726,905</td>\n",
       "      <td>Coldplay</td>\n",
       "      <td>Music of the Spheres World Tour †</td>\n",
       "      <td>/wiki/Music_of_the_Spheres_World_Tour</td>\n",
       "      <td>2022–2023</td>\n",
       "      <td>114</td>\n",
       "    </tr>\n",
       "    <tr>\n",
       "      <th>4</th>\n",
       "      <td>$617,300,000</td>\n",
       "      <td>$617,800,000</td>\n",
       "      <td>Harry Styles</td>\n",
       "      <td>Love On Tour</td>\n",
       "      <td>/wiki/Love_On_Tour</td>\n",
       "      <td>2021–2023</td>\n",
       "      <td>169</td>\n",
       "    </tr>\n",
       "  </tbody>\n",
       "</table>\n",
       "</div>"
      ],
      "text/plain": [
       "   Actual gross Adjusted gross (in 2022 dollars)        Artist  \\\n",
       "0  $939,100,000                     $939,100,000    Elton John   \n",
       "1  $776,200,000                     $888,442,379    Ed Sheeran   \n",
       "2  $736,421,586                     $958,001,690            U2   \n",
       "3  $667,726,905                     $667,726,905      Coldplay   \n",
       "4  $617,300,000                     $617,800,000  Harry Styles   \n",
       "\n",
       "                          Tour title                              Tour link  \\\n",
       "0         Farewell Yellow Brick Road       /wiki/Farewell_Yellow_Brick_Road   \n",
       "1                             ÷ Tour                      /wiki/%C3%B7_Tour   \n",
       "2                       U2 360° Tour                /wiki/U2_360%C2%B0_Tour   \n",
       "3  Music of the Spheres World Tour †  /wiki/Music_of_the_Spheres_World_Tour   \n",
       "4                       Love On Tour                     /wiki/Love_On_Tour   \n",
       "\n",
       "     Year(s)  Shows  \n",
       "0  2018–2023    330  \n",
       "1  2017–2019    255  \n",
       "2  2009–2011    110  \n",
       "3  2022–2023    114  \n",
       "4  2021–2023    169  "
      ]
     },
     "execution_count": 8,
     "metadata": {},
     "output_type": "execute_result"
    }
   ],
   "source": [
    "df.head()"
   ]
  },
  {
   "cell_type": "markdown",
   "metadata": {},
   "source": [
    "## List of most-attended concert tours\n",
    "https://en.wikipedia.org/wiki/List_of_most-attended_concert_tours"
   ]
  },
  {
   "cell_type": "code",
   "execution_count": 9,
   "metadata": {},
   "outputs": [
    {
     "name": "stdout",
     "output_type": "stream",
     "text": [
      "(14, 7)\n",
      "(31, 7)\n"
     ]
    }
   ],
   "source": [
    "captions = [\n",
    "    \"Tours attended by 5 million people or more\",\n",
    "    \"Tours attended by 3.5 to 4.9 million people\"\n",
    "]\n",
    "URL = \"https://en.wikipedia.org/wiki/List_of_most-attended_concert_tours\"\n",
    "\n",
    "df_att = create_tour_list(captions, URL)"
   ]
  },
  {
   "cell_type": "code",
   "execution_count": 10,
   "metadata": {},
   "outputs": [],
   "source": [
    "df_att = df_att[[\"Year(s)\", \"Tour title\", \"Tour link\", \"Artist\", \"Shows\", \"Tickets sold\"]]\n",
    "df = pd.concat([df, df_att]).drop_duplicates('Tour link').reset_index(drop=True)"
   ]
  },
  {
   "cell_type": "code",
   "execution_count": 11,
   "metadata": {},
   "outputs": [
    {
     "data": {
      "text/html": [
       "<div>\n",
       "<style scoped>\n",
       "    .dataframe tbody tr th:only-of-type {\n",
       "        vertical-align: middle;\n",
       "    }\n",
       "\n",
       "    .dataframe tbody tr th {\n",
       "        vertical-align: top;\n",
       "    }\n",
       "\n",
       "    .dataframe thead th {\n",
       "        text-align: right;\n",
       "    }\n",
       "</style>\n",
       "<table border=\"1\" class=\"dataframe\">\n",
       "  <thead>\n",
       "    <tr style=\"text-align: right;\">\n",
       "      <th></th>\n",
       "      <th>Actual gross</th>\n",
       "      <th>Adjusted gross (in 2022 dollars)</th>\n",
       "      <th>Artist</th>\n",
       "      <th>Tour title</th>\n",
       "      <th>Tour link</th>\n",
       "      <th>Year(s)</th>\n",
       "      <th>Shows</th>\n",
       "      <th>Tickets sold</th>\n",
       "    </tr>\n",
       "  </thead>\n",
       "  <tbody>\n",
       "    <tr>\n",
       "      <th>0</th>\n",
       "      <td>$939,100,000</td>\n",
       "      <td>$939,100,000</td>\n",
       "      <td>Elton John</td>\n",
       "      <td>Farewell Yellow Brick Road</td>\n",
       "      <td>/wiki/Farewell_Yellow_Brick_Road</td>\n",
       "      <td>2018–2023</td>\n",
       "      <td>330</td>\n",
       "      <td>NaN</td>\n",
       "    </tr>\n",
       "    <tr>\n",
       "      <th>1</th>\n",
       "      <td>$776,200,000</td>\n",
       "      <td>$888,442,379</td>\n",
       "      <td>Ed Sheeran</td>\n",
       "      <td>÷ Tour</td>\n",
       "      <td>/wiki/%C3%B7_Tour</td>\n",
       "      <td>2017–2019</td>\n",
       "      <td>255</td>\n",
       "      <td>NaN</td>\n",
       "    </tr>\n",
       "    <tr>\n",
       "      <th>2</th>\n",
       "      <td>$736,421,586</td>\n",
       "      <td>$958,001,690</td>\n",
       "      <td>U2</td>\n",
       "      <td>U2 360° Tour</td>\n",
       "      <td>/wiki/U2_360%C2%B0_Tour</td>\n",
       "      <td>2009–2011</td>\n",
       "      <td>110</td>\n",
       "      <td>NaN</td>\n",
       "    </tr>\n",
       "    <tr>\n",
       "      <th>3</th>\n",
       "      <td>$667,726,905</td>\n",
       "      <td>$667,726,905</td>\n",
       "      <td>Coldplay</td>\n",
       "      <td>Music of the Spheres World Tour †</td>\n",
       "      <td>/wiki/Music_of_the_Spheres_World_Tour</td>\n",
       "      <td>2022–2023</td>\n",
       "      <td>114</td>\n",
       "      <td>NaN</td>\n",
       "    </tr>\n",
       "    <tr>\n",
       "      <th>4</th>\n",
       "      <td>$617,300,000</td>\n",
       "      <td>$617,800,000</td>\n",
       "      <td>Harry Styles</td>\n",
       "      <td>Love On Tour</td>\n",
       "      <td>/wiki/Love_On_Tour</td>\n",
       "      <td>2021–2023</td>\n",
       "      <td>169</td>\n",
       "      <td>NaN</td>\n",
       "    </tr>\n",
       "  </tbody>\n",
       "</table>\n",
       "</div>"
      ],
      "text/plain": [
       "   Actual gross Adjusted gross (in 2022 dollars)        Artist  \\\n",
       "0  $939,100,000                     $939,100,000    Elton John   \n",
       "1  $776,200,000                     $888,442,379    Ed Sheeran   \n",
       "2  $736,421,586                     $958,001,690            U2   \n",
       "3  $667,726,905                     $667,726,905      Coldplay   \n",
       "4  $617,300,000                     $617,800,000  Harry Styles   \n",
       "\n",
       "                          Tour title                              Tour link  \\\n",
       "0         Farewell Yellow Brick Road       /wiki/Farewell_Yellow_Brick_Road   \n",
       "1                             ÷ Tour                      /wiki/%C3%B7_Tour   \n",
       "2                       U2 360° Tour                /wiki/U2_360%C2%B0_Tour   \n",
       "3  Music of the Spheres World Tour †  /wiki/Music_of_the_Spheres_World_Tour   \n",
       "4                       Love On Tour                     /wiki/Love_On_Tour   \n",
       "\n",
       "     Year(s)  Shows Tickets sold  \n",
       "0  2018–2023    330          NaN  \n",
       "1  2017–2019    255          NaN  \n",
       "2  2009–2011    110          NaN  \n",
       "3  2022–2023    114          NaN  \n",
       "4  2021–2023    169          NaN  "
      ]
     },
     "execution_count": 11,
     "metadata": {},
     "output_type": "execute_result"
    }
   ],
   "source": [
    "df.head(5)"
   ]
  },
  {
   "cell_type": "code",
   "execution_count": 12,
   "metadata": {},
   "outputs": [
    {
     "data": {
      "text/html": [
       "<div>\n",
       "<style scoped>\n",
       "    .dataframe tbody tr th:only-of-type {\n",
       "        vertical-align: middle;\n",
       "    }\n",
       "\n",
       "    .dataframe tbody tr th {\n",
       "        vertical-align: top;\n",
       "    }\n",
       "\n",
       "    .dataframe thead th {\n",
       "        text-align: right;\n",
       "    }\n",
       "</style>\n",
       "<table border=\"1\" class=\"dataframe\">\n",
       "  <thead>\n",
       "    <tr style=\"text-align: right;\">\n",
       "      <th></th>\n",
       "      <th>Actual gross</th>\n",
       "      <th>Adjusted gross (in 2022 dollars)</th>\n",
       "      <th>Artist</th>\n",
       "      <th>Tour title</th>\n",
       "      <th>Tour link</th>\n",
       "      <th>Year(s)</th>\n",
       "      <th>Shows</th>\n",
       "      <th>Tickets sold</th>\n",
       "    </tr>\n",
       "  </thead>\n",
       "  <tbody>\n",
       "    <tr>\n",
       "      <th>8</th>\n",
       "      <td>$546,500,000</td>\n",
       "      <td>$590,190,470</td>\n",
       "      <td>The Rolling Stones</td>\n",
       "      <td>No Filter Tour</td>\n",
       "      <td>/wiki/No_Filter_Tour</td>\n",
       "      <td>2017–2021</td>\n",
       "      <td>58</td>\n",
       "      <td>NaN</td>\n",
       "    </tr>\n",
       "  </tbody>\n",
       "</table>\n",
       "</div>"
      ],
      "text/plain": [
       "   Actual gross Adjusted gross (in 2022 dollars)              Artist  \\\n",
       "8  $546,500,000                     $590,190,470  The Rolling Stones   \n",
       "\n",
       "       Tour title             Tour link    Year(s)  Shows Tickets sold  \n",
       "8  No Filter Tour  /wiki/No_Filter_Tour  2017–2021     58          NaN  "
      ]
     },
     "execution_count": 12,
     "metadata": {},
     "output_type": "execute_result"
    }
   ],
   "source": [
    "df[df[\"Tour title\"].isin([\"No Filter Tour\"])]"
   ]
  },
  {
   "cell_type": "markdown",
   "metadata": {},
   "source": [
    "I remove:\n",
    "- index 50 - The Garth Brooks World Tour (1996–1998) - duplicated tour\n",
    "- index 35 - Hell Freezes Over Tour - wrong wikipedia page, that doesn't contain info about tour\n",
    "- index 29 - The Rolling Stones American Tour 1981 - it is not world tour.\n",
    "- index 31 - The Division Bell Tour - I couldn't find any proof that it meant to be world tour.\n",
    "- index 8 - No Filter Tour - It's European/North American tour"
   ]
  },
  {
   "cell_type": "code",
   "execution_count": 18,
   "metadata": {},
   "outputs": [],
   "source": [
    "df = df.drop(index=[50, 34, 28, 31, 8]).reset_index()"
   ]
  },
  {
   "cell_type": "markdown",
   "metadata": {},
   "source": [
    "# Gather data without cancelled shows"
   ]
  },
  {
   "cell_type": "code",
   "execution_count": 19,
   "metadata": {},
   "outputs": [],
   "source": [
    "BASE_URL = \"https://en.wikipedia.org\"\n",
    "for index, row in df.iterrows():\n",
    "    url = BASE_URL + row[\"Tour link\"]\n",
    "    response = requests.get(url=url)\n",
    "\n",
    "    soup = BeautifulSoup(response.content, 'html.parser')\n",
    "    # print(f\"{row['Tour title']}\")\n",
    "    for t in soup.body.findAll(\"table\"):\n",
    "        # print(\"Cancelled shows\" in str(t.find_previous_sibling()))\n",
    "\n",
    "        if \"Cancelled shows\" in str(t.find_previous_sibling()):\n",
    "            t.clear()\n"
   ]
  },
  {
   "cell_type": "markdown",
   "metadata": {},
   "source": [
    "I'm gonna combine this piece of code with code that is parsing entire tables"
   ]
  },
  {
   "cell_type": "code",
   "execution_count": 20,
   "metadata": {},
   "outputs": [],
   "source": [
    "BASE_URL = \"https://en.wikipedia.org\"\n",
    "df_tours = pd.DataFrame()\n",
    "\n",
    "for index, row in df.iterrows():\n",
    "    url = BASE_URL + row[\"Tour link\"]\n",
    "    response = requests.get(url=url)\n",
    "\n",
    "    soup = BeautifulSoup(response.content, 'html.parser')\n",
    "    for t in soup.body.findAll(\"table\"):\n",
    "        if \"Cancelled shows\" in str(t.find_previous_sibling()):\n",
    "            t.clear()\n",
    "\n",
    "    tables = pd.read_html(str(soup))\n",
    "    df_tour_tmp = pd.DataFrame()\n",
    "    for t in tables:\n",
    "        if \"City\" in t.columns and \"Country\" in t.columns:\n",
    "            t.columns = t.columns.get_level_values(0)\n",
    "            for i, _ in enumerate(t.columns):\n",
    "                if t.columns[i].startswith(\"Date\"):\n",
    "                    t = t.rename(columns={t.columns[i] : \"Date\"})\n",
    "            df_tour_tmp = pd.concat([df_tour_tmp, t[[\"Country\", \"City\", \"Venue\", \"Date\"]]])\n",
    "    df_tour_tmp = df_tour_tmp.drop(df_tour_tmp[df_tour_tmp[\"Date\"] == df_tour_tmp[\"City\"]].index)\n",
    "    df_tour_tmp[\"Artist\"] = row[\"Artist\"]\n",
    "    df_tour_tmp[\"Tour title\"] = row[\"Tour title\"]\n",
    "    \n",
    "    df_tours = pd.concat([df_tours, df_tour_tmp])\n",
    "    # print(f\"{row['Tour title']}\")"
   ]
  },
  {
   "cell_type": "code",
   "execution_count": 21,
   "metadata": {},
   "outputs": [],
   "source": [
    "df_tours = df_tours.reset_index(drop=True)"
   ]
  },
  {
   "cell_type": "code",
   "execution_count": 22,
   "metadata": {},
   "outputs": [
    {
     "data": {
      "text/plain": [
       "(7401, 6)"
      ]
     },
     "execution_count": 22,
     "metadata": {},
     "output_type": "execute_result"
    }
   ],
   "source": [
    "df_tours.shape"
   ]
  },
  {
   "cell_type": "code",
   "execution_count": 23,
   "metadata": {},
   "outputs": [],
   "source": [
    "df_tours = df_tours.drop(index=df_tours[df_tours[\"Country\"].isna()].index ).reset_index(drop=True)"
   ]
  },
  {
   "cell_type": "markdown",
   "metadata": {},
   "source": [
    "Almost hundred of shows were rejected - before skipping cancelled ones there was 7696 shows."
   ]
  },
  {
   "cell_type": "markdown",
   "metadata": {},
   "source": [
    "## Unidecode cities names"
   ]
  },
  {
   "cell_type": "markdown",
   "metadata": {},
   "source": [
    "During visualization phase I realised that some cities occur in dataset in two different forms (e.g. Chorzow and Chorzów). I used unidecode function to unify those forms."
   ]
  },
  {
   "cell_type": "code",
   "execution_count": 24,
   "metadata": {},
   "outputs": [],
   "source": [
    "from unidecode import unidecode\n",
    "df_tours[\"City\"] = df_tours[\"City\"].apply(lambda x : unidecode(x))"
   ]
  },
  {
   "cell_type": "markdown",
   "metadata": {},
   "source": [
    "I also noticed that some cities have additional characters (e.g. Arlington[k]). I'm gonna use regex to remove those phrases."
   ]
  },
  {
   "cell_type": "code",
   "execution_count": 25,
   "metadata": {},
   "outputs": [],
   "source": [
    "import re\n",
    "df_tours[\"City\"] = df_tours[\"City\"].apply(lambda x : re.sub('\\[.*\\]', '', x))"
   ]
  },
  {
   "cell_type": "markdown",
   "metadata": {},
   "source": [
    "## Fix some errror mistakes"
   ]
  },
  {
   "cell_type": "markdown",
   "metadata": {},
   "source": [
    "Few more fixes, of errors that I discovered later, at the visualization stage"
   ]
  },
  {
   "cell_type": "code",
   "execution_count": 26,
   "metadata": {},
   "outputs": [],
   "source": [
    "df_tours.loc[df_tours[\"City\"] == \"West Berlin\", \"City\"] = \"Berlin\"\n",
    "df_tours.loc[df_tours[\"City\"] == \"Paris (Saint-Denis)\", \"City\"] = \"Paris\""
   ]
  },
  {
   "cell_type": "code",
   "execution_count": 27,
   "metadata": {},
   "outputs": [
    {
     "data": {
      "text/html": [
       "<div>\n",
       "<style scoped>\n",
       "    .dataframe tbody tr th:only-of-type {\n",
       "        vertical-align: middle;\n",
       "    }\n",
       "\n",
       "    .dataframe tbody tr th {\n",
       "        vertical-align: top;\n",
       "    }\n",
       "\n",
       "    .dataframe thead th {\n",
       "        text-align: right;\n",
       "    }\n",
       "</style>\n",
       "<table border=\"1\" class=\"dataframe\">\n",
       "  <thead>\n",
       "    <tr style=\"text-align: right;\">\n",
       "      <th></th>\n",
       "      <th>Country</th>\n",
       "      <th>City</th>\n",
       "      <th>Venue</th>\n",
       "      <th>Date</th>\n",
       "      <th>Artist</th>\n",
       "      <th>Tour title</th>\n",
       "    </tr>\n",
       "  </thead>\n",
       "  <tbody>\n",
       "    <tr>\n",
       "      <th>3664</th>\n",
       "      <td>Oakland–Alameda County Coliseum Arena</td>\n",
       "      <td>Oakland</td>\n",
       "      <td>NaN</td>\n",
       "      <td>24 October 1986</td>\n",
       "      <td>Genesis</td>\n",
       "      <td>Invisible Touch Tour</td>\n",
       "    </tr>\n",
       "  </tbody>\n",
       "</table>\n",
       "</div>"
      ],
      "text/plain": [
       "                                    Country     City Venue             Date  \\\n",
       "3664  Oakland–Alameda County Coliseum Arena  Oakland   NaN  24 October 1986   \n",
       "\n",
       "       Artist            Tour title  \n",
       "3664  Genesis  Invisible Touch Tour  "
      ]
     },
     "execution_count": 27,
     "metadata": {},
     "output_type": "execute_result"
    }
   ],
   "source": [
    "df_tours[df_tours[\"Country\"] == \"Oakland–Alameda County Coliseum Arena\"]"
   ]
  },
  {
   "cell_type": "code",
   "execution_count": 28,
   "metadata": {},
   "outputs": [],
   "source": [
    "df_tours.loc[df_tours[\"Country\"] == \"Oakland–Alameda County Coliseum Arena\", \"Venue\"] = \"Oakland–Alameda County Coliseum Arena\"\n",
    "df_tours.loc[df_tours[\"Country\"] == \"Oakland–Alameda County Coliseum Arena\", \"Country\"] = \"United States\""
   ]
  },
  {
   "cell_type": "markdown",
   "metadata": {},
   "source": [
    "# Geolocation of cities"
   ]
  },
  {
   "cell_type": "code",
   "execution_count": 29,
   "metadata": {},
   "outputs": [],
   "source": [
    "from geopy.geocoders import Nominatim\n",
    "geolocator = Nominatim(user_agent=\"my_user_agent\")"
   ]
  },
  {
   "cell_type": "markdown",
   "metadata": {},
   "source": [
    "Many venues are recurring, so it may be good idea to cache already geolocated places in dictionary object"
   ]
  },
  {
   "cell_type": "code",
   "execution_count": 30,
   "metadata": {},
   "outputs": [],
   "source": [
    "cached_locations = {}\n",
    "\n",
    "def geolocalize_cities(df_tours, cached_locations):\n",
    "    for index, row in df_tours.iterrows():\n",
    "        venue = f\"{df_tours.iloc[index, 1]}, {df_tours.iloc[index, 0]}\"\n",
    "        if venue in cached_locations:\n",
    "            df_tours.loc[index, \"Latitude\"] = cached_locations[venue][0]\n",
    "            df_tours.loc[index, \"Longitude\"] = cached_locations[venue][1]\n",
    "        else:\n",
    "            location = geolocator.geocode(venue, timeout=10)\n",
    "            if not location:\n",
    "                print(venue)\n",
    "                continue\n",
    "            df_tours.loc[index, \"Latitude\"] = location.latitude\n",
    "            df_tours.loc[index, \"Longitude\"] = location.longitude\n",
    "            cached_locations[venue] = [location.latitude, location.longitude]\n"
   ]
  },
  {
   "cell_type": "code",
   "execution_count": 31,
   "metadata": {},
   "outputs": [
    {
     "name": "stdout",
     "output_type": "stream",
     "text": [
      "Langraaf, Netherlands\n",
      "Hanover, West Germany\n",
      "Moscow, Soviet Union\n",
      "Moscow, Soviet Union\n",
      "Moscow, Soviet Union\n",
      "Moscow, Soviet Union\n",
      "Moscow, Soviet Union\n",
      "Cologne, West Germany\n",
      "Cologne, West Germany\n",
      "Hockenheim, West Germany\n",
      "Wurzburg, West Germany\n",
      "Hanover, West Germany\n",
      "Hanover, West Germany\n",
      "Cologne, West Germany\n",
      "Cologne, West Germany\n",
      "East Berlin, East Germany\n",
      "East Berlin, East Germany\n",
      "Prague, Czechoslovakia\n",
      "Nurburgring, West Germany\n",
      "Slane, Ireland, Republic of\n",
      "Nuremberg, West Germany\n",
      "Nuremberg, West Germany\n",
      "Hanover, West Germany\n",
      "Hanover, West Germany\n",
      "Hanover, West Germany\n",
      "Mursfreesboro, United States\n",
      "Cologne, West Germany\n",
      "Kaohsiung, Taiwan[21][22]\n"
     ]
    }
   ],
   "source": [
    "geolocalize_cities(df_tours, cached_locations)"
   ]
  },
  {
   "cell_type": "markdown",
   "metadata": {},
   "source": [
    "Now I know, that 30 places aren't geolocalised properly:\n",
    "    - Some had additional characters attached to country name (Taiwan[21][22])\n",
    "    - Some had country that is no longer existing (like Moscow, Soviet Union; Hanover - West Germany)\n",
    "    - Some had misspelings (Langraaf -> Landgraaf; Mursfreesboro->Murfreesboro)"
   ]
  },
  {
   "cell_type": "code",
   "execution_count": 32,
   "metadata": {},
   "outputs": [],
   "source": [
    "df_tours.loc[df_tours[\"Country\"] == \"West Germany\", \"Country\"] = \"Germany\"\n",
    "df_tours.loc[df_tours[\"Country\"] == \"Ireland, Republic of\", \"Country\"] = \"Ireland\"\n",
    "df_tours.loc[df_tours[\"Country\"] == \"Republic of Ireland\", \"Country\"] = \"Ireland\"\n",
    "df_tours.loc[df_tours[\"Country\"] == \"Czechoslovakia\", \"Country\"] = \"Czech Republic\"\n",
    "df_tours.loc[df_tours[\"Country\"] == \"Soviet Union\", \"Country\"] = \"Russia\"\n",
    "df_tours.loc[df_tours[\"Country\"] == \"East Germany\", \"Country\"] = \"Germany\"\n",
    "df_tours.loc[df_tours[\"Country\"] == \"Perú\", \"Country\"] = \"Peru\"\n",
    "df_tours.loc[df_tours[\"Country\"] == \"México\", \"Country\"] = \"Mexico\"\n",
    "\n",
    "\n",
    "df_tours.loc[df_tours[\"Country\"] == \"Taiwan[21][22]\", \"Country\"] = \"Taiwan\"\n",
    "\n",
    "df_tours.loc[df_tours[\"City\"] == \"Langraaf\", \"City\"] = \"Landgraaf\"\n",
    "df_tours.loc[df_tours[\"City\"] == \"Mursfreesboro\", \"City\"] = \"Murfreesboro\"\n",
    "df_tours.loc[df_tours[\"City\"] == \"East Berlin\", \"City\"] = \"Berlin\"\n"
   ]
  },
  {
   "cell_type": "code",
   "execution_count": 33,
   "metadata": {},
   "outputs": [],
   "source": [
    "geolocalize_cities(df_tours, cached_locations)"
   ]
  },
  {
   "cell_type": "markdown",
   "metadata": {},
   "source": [
    "## Add continents data"
   ]
  },
  {
   "cell_type": "markdown",
   "metadata": {},
   "source": [
    "Create country-continent map. CSV file comes from pytcountry-convert package: https://github.com/jefftune/pycountry-convert/tree/master."
   ]
  },
  {
   "cell_type": "code",
   "execution_count": 34,
   "metadata": {},
   "outputs": [],
   "source": [
    "import csv\n",
    "\n",
    "country_to_continent = {}\n",
    "\n",
    "with open('Continents_to_CountryNames.csv') as f:\n",
    "    next(f)\n",
    "    reader = csv.reader(f)\n",
    "    for row in reader:\n",
    "        country_to_continent[row[1]] = row[0]\n"
   ]
  },
  {
   "cell_type": "code",
   "execution_count": 35,
   "metadata": {},
   "outputs": [],
   "source": [
    "country_to_continent[\"England\"] = \"Europe\"\n",
    "country_to_continent[\"Scotland\"] = \"Europe\"\n",
    "country_to_continent[\"Ireland\"] = \"Europe\"\n",
    "country_to_continent[\"Ireland\"] = \"Europe\"\n",
    "country_to_continent[\"Wales\"] = \"Europe\"\n",
    "country_to_continent[\"Northern Ireland\"] = \"Europe\"\n",
    "country_to_continent[\"Puerto Rico\"] = \"North America\"\n",
    "country_to_continent[\"Taiwan\"] = \"Asia\"\n",
    "country_to_continent[\"Hong Kong\"] = \"Asia\"\n",
    "country_to_continent[\"South Korea\"] = \"Asia\"\n",
    "country_to_continent[\"Russia\"] = \"Europe\"\n",
    "country_to_continent[\"Macau\"] = \"Asia\""
   ]
  },
  {
   "cell_type": "markdown",
   "metadata": {},
   "source": [
    "## Add Continent column to dataframe, based on created dict."
   ]
  },
  {
   "cell_type": "code",
   "execution_count": 36,
   "metadata": {},
   "outputs": [],
   "source": [
    "df_tours[\"Continent\"] = df_tours[\"Country\"].apply(lambda x : country_to_continent[x])"
   ]
  },
  {
   "cell_type": "markdown",
   "metadata": {},
   "source": [
    "Confirm that continent matches city in big countries located on more than one continent"
   ]
  },
  {
   "cell_type": "code",
   "execution_count": 37,
   "metadata": {},
   "outputs": [
    {
     "data": {
      "text/plain": [
       "City\n",
       "Moscow              19\n",
       "Saint Petersburg     5\n",
       "Name: count, dtype: int64"
      ]
     },
     "execution_count": 37,
     "metadata": {},
     "output_type": "execute_result"
    }
   ],
   "source": [
    "df_tours[df_tours[\"Country\"] == \"Russia\"][\"City\"].value_counts()"
   ]
  },
  {
   "cell_type": "code",
   "execution_count": 38,
   "metadata": {},
   "outputs": [
    {
     "data": {
      "text/plain": [
       "City\n",
       "Istanbul    6\n",
       "Name: count, dtype: int64"
      ]
     },
     "execution_count": 38,
     "metadata": {},
     "output_type": "execute_result"
    }
   ],
   "source": [
    "df_tours[df_tours[\"Country\"] == \"Turkey\"][\"City\"].value_counts()"
   ]
  },
  {
   "cell_type": "markdown",
   "metadata": {},
   "source": [
    "Rename 'United Kingdom' to either England, Scotland, Wales or Northern Ireland"
   ]
  },
  {
   "cell_type": "code",
   "execution_count": 39,
   "metadata": {},
   "outputs": [
    {
     "data": {
      "text/html": [
       "<div>\n",
       "<style scoped>\n",
       "    .dataframe tbody tr th:only-of-type {\n",
       "        vertical-align: middle;\n",
       "    }\n",
       "\n",
       "    .dataframe tbody tr th {\n",
       "        vertical-align: top;\n",
       "    }\n",
       "\n",
       "    .dataframe thead th {\n",
       "        text-align: right;\n",
       "    }\n",
       "</style>\n",
       "<table border=\"1\" class=\"dataframe\">\n",
       "  <thead>\n",
       "    <tr style=\"text-align: right;\">\n",
       "      <th></th>\n",
       "      <th>Country</th>\n",
       "      <th>City</th>\n",
       "      <th>Venue</th>\n",
       "      <th>Date</th>\n",
       "      <th>Artist</th>\n",
       "      <th>Tour title</th>\n",
       "      <th>Latitude</th>\n",
       "      <th>Longitude</th>\n",
       "      <th>Continent</th>\n",
       "    </tr>\n",
       "  </thead>\n",
       "  <tbody>\n",
       "    <tr>\n",
       "      <th>3467</th>\n",
       "      <td>United Kingdom</td>\n",
       "      <td>London</td>\n",
       "      <td>Player's Theatre</td>\n",
       "      <td>20 March</td>\n",
       "      <td>David Bowie</td>\n",
       "      <td>Glass Spider Tour</td>\n",
       "      <td>51.507446</td>\n",
       "      <td>-0.127765</td>\n",
       "      <td>Europe</td>\n",
       "    </tr>\n",
       "    <tr>\n",
       "      <th>3485</th>\n",
       "      <td>United Kingdom</td>\n",
       "      <td>London</td>\n",
       "      <td>Wembley Stadium</td>\n",
       "      <td>19 June</td>\n",
       "      <td>David Bowie</td>\n",
       "      <td>Glass Spider Tour</td>\n",
       "      <td>51.507446</td>\n",
       "      <td>-0.127765</td>\n",
       "      <td>Europe</td>\n",
       "    </tr>\n",
       "    <tr>\n",
       "      <th>3486</th>\n",
       "      <td>United Kingdom</td>\n",
       "      <td>London</td>\n",
       "      <td>Wembley Stadium</td>\n",
       "      <td>20 June</td>\n",
       "      <td>David Bowie</td>\n",
       "      <td>Glass Spider Tour</td>\n",
       "      <td>51.507446</td>\n",
       "      <td>-0.127765</td>\n",
       "      <td>Europe</td>\n",
       "    </tr>\n",
       "    <tr>\n",
       "      <th>3487</th>\n",
       "      <td>United Kingdom</td>\n",
       "      <td>Cardiff</td>\n",
       "      <td>National Stadium</td>\n",
       "      <td>21 June</td>\n",
       "      <td>David Bowie</td>\n",
       "      <td>Glass Spider Tour</td>\n",
       "      <td>51.481655</td>\n",
       "      <td>-3.179193</td>\n",
       "      <td>Europe</td>\n",
       "    </tr>\n",
       "    <tr>\n",
       "      <th>3488</th>\n",
       "      <td>United Kingdom</td>\n",
       "      <td>Sunderland</td>\n",
       "      <td>Roker Park</td>\n",
       "      <td>23 June</td>\n",
       "      <td>David Bowie</td>\n",
       "      <td>Glass Spider Tour</td>\n",
       "      <td>54.905851</td>\n",
       "      <td>-1.382873</td>\n",
       "      <td>Europe</td>\n",
       "    </tr>\n",
       "    <tr>\n",
       "      <th>3498</th>\n",
       "      <td>United Kingdom</td>\n",
       "      <td>Manchester</td>\n",
       "      <td>Maine Road</td>\n",
       "      <td>14 July</td>\n",
       "      <td>David Bowie</td>\n",
       "      <td>Glass Spider Tour</td>\n",
       "      <td>53.479489</td>\n",
       "      <td>-2.245115</td>\n",
       "      <td>Europe</td>\n",
       "    </tr>\n",
       "    <tr>\n",
       "      <th>3499</th>\n",
       "      <td>United Kingdom</td>\n",
       "      <td>Manchester</td>\n",
       "      <td>Maine Road</td>\n",
       "      <td>15 July</td>\n",
       "      <td>David Bowie</td>\n",
       "      <td>Glass Spider Tour</td>\n",
       "      <td>53.479489</td>\n",
       "      <td>-2.245115</td>\n",
       "      <td>Europe</td>\n",
       "    </tr>\n",
       "  </tbody>\n",
       "</table>\n",
       "</div>"
      ],
      "text/plain": [
       "             Country        City             Venue      Date       Artist  \\\n",
       "3467  United Kingdom      London  Player's Theatre  20 March  David Bowie   \n",
       "3485  United Kingdom      London   Wembley Stadium   19 June  David Bowie   \n",
       "3486  United Kingdom      London   Wembley Stadium   20 June  David Bowie   \n",
       "3487  United Kingdom     Cardiff  National Stadium   21 June  David Bowie   \n",
       "3488  United Kingdom  Sunderland        Roker Park   23 June  David Bowie   \n",
       "3498  United Kingdom  Manchester        Maine Road   14 July  David Bowie   \n",
       "3499  United Kingdom  Manchester        Maine Road   15 July  David Bowie   \n",
       "\n",
       "             Tour title   Latitude  Longitude Continent  \n",
       "3467  Glass Spider Tour  51.507446  -0.127765    Europe  \n",
       "3485  Glass Spider Tour  51.507446  -0.127765    Europe  \n",
       "3486  Glass Spider Tour  51.507446  -0.127765    Europe  \n",
       "3487  Glass Spider Tour  51.481655  -3.179193    Europe  \n",
       "3488  Glass Spider Tour  54.905851  -1.382873    Europe  \n",
       "3498  Glass Spider Tour  53.479489  -2.245115    Europe  \n",
       "3499  Glass Spider Tour  53.479489  -2.245115    Europe  "
      ]
     },
     "execution_count": 39,
     "metadata": {},
     "output_type": "execute_result"
    }
   ],
   "source": [
    "df_tours[df_tours[\"Country\"] == \"United Kingdom\"]"
   ]
  },
  {
   "cell_type": "code",
   "execution_count": 40,
   "metadata": {},
   "outputs": [],
   "source": [
    "df_tours.loc[df_tours[\"City\"] == \"Cardiff\", \"Country\"] = \"Wales\"\n",
    "df_tours.loc[df_tours[\"Country\"] == \"United Kingdom\", \"Country\"] = \"England\""
   ]
  },
  {
   "cell_type": "markdown",
   "metadata": {},
   "source": [
    "# Export data"
   ]
  },
  {
   "cell_type": "code",
   "execution_count": 41,
   "metadata": {},
   "outputs": [
    {
     "data": {
      "text/html": [
       "<div>\n",
       "<style scoped>\n",
       "    .dataframe tbody tr th:only-of-type {\n",
       "        vertical-align: middle;\n",
       "    }\n",
       "\n",
       "    .dataframe tbody tr th {\n",
       "        vertical-align: top;\n",
       "    }\n",
       "\n",
       "    .dataframe thead th {\n",
       "        text-align: right;\n",
       "    }\n",
       "</style>\n",
       "<table border=\"1\" class=\"dataframe\">\n",
       "  <thead>\n",
       "    <tr style=\"text-align: right;\">\n",
       "      <th></th>\n",
       "      <th>Country</th>\n",
       "      <th>City</th>\n",
       "      <th>Venue</th>\n",
       "      <th>Date</th>\n",
       "      <th>Artist</th>\n",
       "      <th>Tour title</th>\n",
       "      <th>Latitude</th>\n",
       "      <th>Longitude</th>\n",
       "      <th>Continent</th>\n",
       "    </tr>\n",
       "  </thead>\n",
       "  <tbody>\n",
       "  </tbody>\n",
       "</table>\n",
       "</div>"
      ],
      "text/plain": [
       "Empty DataFrame\n",
       "Columns: [Country, City, Venue, Date, Artist, Tour title, Latitude, Longitude, Continent]\n",
       "Index: []"
      ]
     },
     "execution_count": 41,
     "metadata": {},
     "output_type": "execute_result"
    }
   ],
   "source": [
    "df_tours[df_tours[\"Latitude\"].isna()]"
   ]
  },
  {
   "cell_type": "code",
   "execution_count": 42,
   "metadata": {},
   "outputs": [],
   "source": [
    "df_tours.to_csv(\"../data/prepared_data_cont.csv\", encoding=\"utf-8\")"
   ]
  }
 ],
 "metadata": {
  "kernelspec": {
   "display_name": "venv",
   "language": "python",
   "name": "python3"
  },
  "language_info": {
   "codemirror_mode": {
    "name": "ipython",
    "version": 3
   },
   "file_extension": ".py",
   "mimetype": "text/x-python",
   "name": "python",
   "nbconvert_exporter": "python",
   "pygments_lexer": "ipython3",
   "version": "3.10.7"
  }
 },
 "nbformat": 4,
 "nbformat_minor": 2
}
